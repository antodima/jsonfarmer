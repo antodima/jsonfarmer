{
 "cells": [
  {
   "cell_type": "markdown",
   "id": "7eb12bba",
   "metadata": {},
   "source": [
    "# Jsonfarmer"
   ]
  },
  {
   "cell_type": "code",
   "execution_count": null,
   "id": "c727242e-c6d0-45cb-813a-f9aa0e6b365c",
   "metadata": {},
   "outputs": [],
   "source": [
    "%load_ext dotenv\n",
    "%dotenv\n",
    "%env PYTORCH_MPS_HIGH_WATERMARK_RATIO=0.0\n",
    "%env HF_HUB_ENABLE_HF_TRANSFER=1\n",
    "!litgpt download meta-llama/Llama-3.2-1B"
   ]
  },
  {
   "cell_type": "code",
   "execution_count": null,
   "id": "2fef8282",
   "metadata": {},
   "outputs": [],
   "source": [
    "from pathlib import Path\n",
    "import torch\n",
    "import torch.nn.functional as F\n",
    "import lightning as L\n",
    "\n",
    "import litgpt\n",
    "from litgpt.data import JSON\n",
    "from litgpt.lora import GPT, merge_lora_weights\n",
    "from lightning.pytorch import Trainer, seed_everything\n",
    "\n",
    "seed_everything(42, workers=True)"
   ]
  },
  {
   "cell_type": "code",
   "execution_count": null,
   "id": "5281ba14",
   "metadata": {},
   "outputs": [],
   "source": [
    "class Jsonfarmer(L.LightningModule):\n",
    "    def __init__(self, model_name: str):\n",
    "        super().__init__()\n",
    "        self.model_name = model_name\n",
    "        self.model = GPT.from_name(\n",
    "            name=model_name,\n",
    "            lora_r=4,\n",
    "            lora_alpha=8,\n",
    "            lora_dropout=0.05,\n",
    "            lora_query=True,\n",
    "            lora_key=False,\n",
    "            lora_value=True,\n",
    "        )\n",
    "        litgpt.lora.mark_only_lora_as_trainable(self.model)\n",
    "\n",
    "    def on_train_start(self):\n",
    "        state_dict = torch.load(\n",
    "            f\"checkpoints/{self.model_name}/lit_model.pth\", mmap=True\n",
    "        )\n",
    "        self.model.load_state_dict(state_dict, strict=False)\n",
    "\n",
    "    def training_step(self, batch):\n",
    "        input_ids, targets = batch[\"input_ids\"], batch[\"labels\"]\n",
    "        logits = self.model(input_ids)\n",
    "        loss = litgpt.utils.chunked_cross_entropy(logits[..., :-1, :], targets[..., 1:])\n",
    "        self.log(\n",
    "            \"train_loss\", loss, on_step=True, on_epoch=True, prog_bar=True, logger=True\n",
    "        )\n",
    "        return loss\n",
    "\n",
    "    def validation_step(self, batch):\n",
    "        input_ids, targets = batch[\"input_ids\"], batch[\"labels\"]\n",
    "        logits = self.model(input_ids)\n",
    "        loss = litgpt.utils.chunked_cross_entropy(logits[..., :-1, :], targets[..., 1:])\n",
    "        self.log(\n",
    "            \"val_loss\", loss, on_step=True, on_epoch=True, prog_bar=True, logger=True\n",
    "        )\n",
    "        return loss\n",
    "\n",
    "    def configure_optimizers(self):\n",
    "        warmup_steps = 10\n",
    "        optimizer = torch.optim.AdamW(\n",
    "            self.model.parameters(), lr=2e-4, weight_decay=0.0, betas=(0.9, 0.95)\n",
    "        )\n",
    "        scheduler = torch.optim.lr_scheduler.LambdaLR(\n",
    "            optimizer, lambda step: step / warmup_steps\n",
    "        )\n",
    "        return [optimizer], [scheduler]"
   ]
  },
  {
   "cell_type": "code",
   "execution_count": null,
   "id": "bff06a00",
   "metadata": {},
   "outputs": [],
   "source": [
    "model_name = \"meta-llama/Llama-3.2-1B\"\n",
    "data = JSON(\n",
    "    json_path=Path(\"dataset.json\"),\n",
    "    prompt_style=\"alpaca\",\n",
    "    val_split_fraction=0.2,\n",
    ")\n",
    "data.setup()\n",
    "tokenizer = litgpt.Tokenizer(f\"checkpoints/{model_name}\")\n",
    "data.connect(tokenizer, batch_size=1, max_seq_length=512)\n",
    "\n",
    "\n",
    "trainer = Trainer(\n",
    "    devices=1,\n",
    "    max_epochs=10,\n",
    "    # accumulate_grad_batches=8,\n",
    "    precision=\"bf16-mixed\",\n",
    "    deterministic=True,\n",
    "    log_every_n_steps=1,\n",
    ")\n",
    "with trainer.init_module(empty_init=True):\n",
    "    model = Jsonfarmer(model_name)\n",
    "\n",
    "trainer.fit(model, data)\n",
    "merge_lora_weights(model.model)\n",
    "trainer.save_checkpoint(\"checkpoints/jsonfarmer.ckpt\", weights_only=True)"
   ]
  }
 ],
 "metadata": {
  "kernelspec": {
   "display_name": "jsonfarmer",
   "language": "python",
   "name": "python3"
  },
  "language_info": {
   "codemirror_mode": {
    "name": "ipython",
    "version": 3
   },
   "file_extension": ".py",
   "mimetype": "text/x-python",
   "name": "python",
   "nbconvert_exporter": "python",
   "pygments_lexer": "ipython3",
   "version": "3.13.2"
  }
 },
 "nbformat": 4,
 "nbformat_minor": 5
}
