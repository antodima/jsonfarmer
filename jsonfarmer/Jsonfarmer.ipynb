{
 "cells": [
  {
   "cell_type": "markdown",
   "id": "7eb12bba",
   "metadata": {},
   "source": [
    "# Jsonfarmer"
   ]
  },
  {
   "cell_type": "code",
   "execution_count": null,
   "id": "c727242e-c6d0-45cb-813a-f9aa0e6b365c",
   "metadata": {},
   "outputs": [],
   "source": [
    "%load_ext dotenv\n",
    "%dotenv\n",
    "%env PYTORCH_MPS_HIGH_WATERMARK_RATIO=0.0\n",
    "# !HF_HUB_ENABLE_HF_TRANSFER=1 litgpt download google/gemma-3-1b-it --tokenizer_only true\n",
    "!HF_HUB_ENABLE_HF_TRANSFER=1 litgpt download meta-llama/Llama-3.2-1B --tokenizer_only true"
   ]
  },
  {
   "cell_type": "code",
   "execution_count": null,
   "id": "5281ba14",
   "metadata": {},
   "outputs": [
    {
     "ename": "",
     "evalue": "",
     "output_type": "error",
     "traceback": [
      "\u001b[1;31mThe Kernel crashed while executing code in the current cell or a previous cell. \n",
      "\u001b[1;31mPlease review the code in the cell(s) to identify a possible cause of the failure. \n",
      "\u001b[1;31mClick <a href='https://aka.ms/vscodeJupyterKernelCrash'>here</a> for more info. \n",
      "\u001b[1;31mView Jupyter <a href='command:jupyter.viewOutput'>log</a> for further details."
     ]
    }
   ],
   "source": [
    "import torch\n",
    "import litgpt\n",
    "from litgpt.lora import GPT\n",
    "import lightning as L\n",
    "\n",
    "\n",
    "# model_name = \"google/gemma-3-1b-it\"\n",
    "model_name = \"meta-llama/Llama-3.2-1B\"\n",
    "\n",
    "\n",
    "class Jsonfarmer(L.LightningModule):\n",
    "    def __init__(self):\n",
    "        super().__init__()\n",
    "        self.model = GPT.from_name(\n",
    "            name=model_name,\n",
    "            lora_r=8,\n",
    "            lora_alpha=32,\n",
    "            lora_dropout=0.05,\n",
    "            lora_query=True,\n",
    "            lora_key=False,\n",
    "            lora_value=True,\n",
    "        )\n",
    "        litgpt.lora.mark_only_lora_as_trainable(self.model)\n",
    "\n",
    "    # def on_train_start(self):\n",
    "    #     state_dict = torch.load(\"checkpoints/google/gemma-3-1b-it/\", mmap=True)\n",
    "    #     self.model.load_state_dict(state_dict, strict=False)\n",
    "\n",
    "    def training_step(self, batch):\n",
    "        input_ids, targets = batch[\"input_ids\"], batch[\"labels\"]\n",
    "        logits = self.model(input_ids)\n",
    "        loss = litgpt.utils.chunked_cross_entropy(logits[..., :-1, :], targets[..., 1:])\n",
    "        self.log(\"train_loss\", loss, prog_bar=True)\n",
    "        return loss\n",
    "\n",
    "    def configure_optimizers(self):\n",
    "        warmup_steps = 10\n",
    "        optimizer = torch.optim.AdamW(\n",
    "            self.model.parameters(), lr=2e-4, weight_decay=0.0, betas=(0.9, 0.95)\n",
    "        )\n",
    "        scheduler = torch.optim.lr_scheduler.LambdaLR(\n",
    "            optimizer, lambda step: step / warmup_steps\n",
    "        )\n",
    "        return [optimizer], [scheduler]"
   ]
  },
  {
   "cell_type": "code",
   "execution_count": null,
   "id": "bff06a00",
   "metadata": {},
   "outputs": [],
   "source": [
    "from litgpt.data import Alpaca2k\n",
    "from litgpt.lora import merge_lora_weights\n",
    "from lightning.pytorch import Trainer, seed_everything\n",
    "\n",
    "\n",
    "seed_everything(42, workers=True)\n",
    "\n",
    "data = Alpaca2k()\n",
    "tokenizer = litgpt.Tokenizer(f\"checkpoints/{model_name}\")\n",
    "data.connect(tokenizer, batch_size=8, max_seq_length=512)\n",
    "\n",
    "trainer = Trainer(\n",
    "    devices=1,\n",
    "    max_epochs=2,\n",
    "    accumulate_grad_batches=8,\n",
    "    precision=\"bf16-true\",\n",
    "    deterministic=True,\n",
    ")\n",
    "with trainer.init_module(empty_init=True):\n",
    "    model = Jsonfarmer()\n",
    "\n",
    "trainer.fit(model, data)\n",
    "merge_lora_weights(model.model)\n",
    "trainer.save_checkpoint(\"checkpoints/jsonfarmer.ckpt\", weights_only=True)\n"
   ]
  }
 ],
 "metadata": {
  "kernelspec": {
   "display_name": "jsonfarmer",
   "language": "python",
   "name": "python3"
  },
  "language_info": {
   "codemirror_mode": {
    "name": "ipython",
    "version": 3
   },
   "file_extension": ".py",
   "mimetype": "text/x-python",
   "name": "python",
   "nbconvert_exporter": "python",
   "pygments_lexer": "ipython3",
   "version": "3.13.2"
  }
 },
 "nbformat": 4,
 "nbformat_minor": 5
}
