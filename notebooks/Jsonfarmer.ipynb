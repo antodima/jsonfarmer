{
 "cells": [
  {
   "cell_type": "markdown",
   "id": "7eb12bba",
   "metadata": {},
   "source": [
    "# Jsonfarmer"
   ]
  },
  {
   "cell_type": "code",
   "execution_count": 1,
   "id": "c727242e-c6d0-45cb-813a-f9aa0e6b365c",
   "metadata": {},
   "outputs": [
    {
     "name": "stdout",
     "output_type": "stream",
     "text": [
      "/Users/antodima/Code/jsonfarmer\n",
      "env: PYTORCH_MPS_HIGH_WATERMARK_RATIO=0.0\n",
      "env: HF_HUB_ENABLE_HF_TRANSFER=1\n",
      "env: PYDEVD_DISABLE_FILE_VALIDATION=1\n",
      "config.json: 100%|█████████████████████████████| 659/659 [00:00<00:00, 1.11MB/s]\n",
      "generation_config.json: 100%|██████████████████| 242/242 [00:00<00:00, 1.19MB/s]\n",
      "model.safetensors: 100%|██████████████████████| 988M/988M [00:01<00:00, 551MB/s]\n",
      "tokenizer.json: 7.03MB [00:00, 52.0MB/s]\n",
      "tokenizer_config.json: 7.30kB [00:00, 11.1MB/s]\n",
      "Converting checkpoint files to LitGPT format.\n",
      "{'checkpoint_dir': PosixPath('checkpoints/Qwen/Qwen2.5-0.5B-Instruct'),\n",
      " 'debug_mode': False,\n",
      " 'dtype': None,\n",
      " 'model_name': None}\n",
      "Loading weights: model.safetensors: 100%|██████████████| 00:00<00:00, 103.23it/s\n",
      "Saving converted checkpoint to checkpoints/Qwen/Qwen2.5-0.5B-Instruct\n"
     ]
    }
   ],
   "source": [
    "%cd ..\n",
    "%load_ext dotenv\n",
    "%dotenv\n",
    "%env PYTORCH_MPS_HIGH_WATERMARK_RATIO=0.0\n",
    "%env HF_HUB_ENABLE_HF_TRANSFER=1\n",
    "%env PYDEVD_DISABLE_FILE_VALIDATION=1\n",
    "# !litgpt download meta-llama/Llama-3.2-1B\n",
    "!litgpt download Qwen/Qwen2.5-0.5B-Instruct"
   ]
  },
  {
   "cell_type": "code",
   "execution_count": 2,
   "id": "2fef8282",
   "metadata": {},
   "outputs": [
    {
     "name": "stderr",
     "output_type": "stream",
     "text": [
      "Seed set to 42\n"
     ]
    }
   ],
   "source": [
    "from pathlib import Path\n",
    "\n",
    "import torch\n",
    "\n",
    "import litgpt\n",
    "from litgpt.data import JSON\n",
    "from litgpt.lora import merge_lora_weights\n",
    "from lightning.pytorch import Trainer, seed_everything\n",
    "from jsonfarmer.model import Jsonfarmer\n",
    "\n",
    "seed_everything(42, workers=True)\n",
    "torch.set_float32_matmul_precision(\"high\")\n",
    "model_name = \"Qwen/Qwen2.5-0.5B-Instruct\""
   ]
  },
  {
   "cell_type": "code",
   "execution_count": 3,
   "id": "bff06a00",
   "metadata": {},
   "outputs": [
    {
     "name": "stderr",
     "output_type": "stream",
     "text": [
      "💡 Tip: For seamless cloud uploads and versioning, try installing [litmodels](https://pypi.org/project/litmodels/) to enable LitModelCheckpoint, which syncs automatically with the Lightning model registry.\n",
      "GPU available: True (mps), used: True\n",
      "TPU available: False, using: 0 TPU cores\n",
      "HPU available: False, using: 0 HPUs\n",
      "/Users/antodima/Code/jsonfarmer/.venv/lib/python3.13/site-packages/lightning/pytorch/trainer/connectors/logger_connector/logger_connector.py:76: Starting from v1.9.0, `tensorboardX` has been removed as a dependency of the `lightning.pytorch` package, due to potential conflicts with other packages in the ML ecosystem. For this reason, `logger=True` will use `CSVLogger` as the default logger, unless the `tensorboard` or `tensorboardX` packages are found. Please `pip install lightning[extra]` or one of them to enable TensorBoard support by default\n",
      "\n",
      "  | Name    | Type               | Params | Mode \n",
      "-------------------------------------------------------\n",
      "0 | model   | GPT                | 630 M  | train\n",
      "1 | loss_fn | CrossEntropyLoss   | 0      | train\n",
      "2 | acc_fn  | MulticlassAccuracy | 0      | train\n",
      "-------------------------------------------------------\n",
      "630 M     Trainable params\n",
      "0         Non-trainable params\n",
      "630 M     Total params\n",
      "2,520.670 Total estimated model params size (MB)\n",
      "417       Modules in train mode\n",
      "0         Modules in eval mode\n"
     ]
    },
    {
     "data": {
      "application/vnd.jupyter.widget-view+json": {
       "model_id": "25e2e0f750784cc0927b58404ebe2df6",
       "version_major": 2,
       "version_minor": 0
      },
      "text/plain": [
       "Sanity Checking: |          | 0/? [00:00<?, ?it/s]"
      ]
     },
     "metadata": {},
     "output_type": "display_data"
    },
    {
     "name": "stderr",
     "output_type": "stream",
     "text": [
      "/Users/antodima/Code/jsonfarmer/.venv/lib/python3.13/site-packages/lightning/pytorch/trainer/connectors/data_connector.py:420: Consider setting `persistent_workers=True` in 'val_dataloader' to speed up the dataloader worker initialization.\n",
      "/Users/antodima/Code/jsonfarmer/.venv/lib/python3.13/site-packages/lightning/pytorch/trainer/connectors/data_connector.py:420: Consider setting `persistent_workers=True` in 'train_dataloader' to speed up the dataloader worker initialization.\n"
     ]
    },
    {
     "data": {
      "application/vnd.jupyter.widget-view+json": {
       "model_id": "1c78e76c15984ee3a6f8cca58fca205d",
       "version_major": 2,
       "version_minor": 0
      },
      "text/plain": [
       "Training: |          | 0/? [00:00<?, ?it/s]"
      ]
     },
     "metadata": {},
     "output_type": "display_data"
    },
    {
     "data": {
      "application/vnd.jupyter.widget-view+json": {
       "model_id": "0f7e68444a774063b16b884cf5bc8112",
       "version_major": 2,
       "version_minor": 0
      },
      "text/plain": [
       "Validation: |          | 0/? [00:00<?, ?it/s]"
      ]
     },
     "metadata": {},
     "output_type": "display_data"
    },
    {
     "data": {
      "application/vnd.jupyter.widget-view+json": {
       "model_id": "d69b311f1dd44ef6a688b4e6ed0ad0f7",
       "version_major": 2,
       "version_minor": 0
      },
      "text/plain": [
       "Validation: |          | 0/? [00:00<?, ?it/s]"
      ]
     },
     "metadata": {},
     "output_type": "display_data"
    },
    {
     "data": {
      "application/vnd.jupyter.widget-view+json": {
       "model_id": "d6acbfbae837409db009cb6a6307cf21",
       "version_major": 2,
       "version_minor": 0
      },
      "text/plain": [
       "Validation: |          | 0/? [00:00<?, ?it/s]"
      ]
     },
     "metadata": {},
     "output_type": "display_data"
    },
    {
     "data": {
      "application/vnd.jupyter.widget-view+json": {
       "model_id": "9a1b65f76de84ab8af24a7d81ea95547",
       "version_major": 2,
       "version_minor": 0
      },
      "text/plain": [
       "Validation: |          | 0/? [00:00<?, ?it/s]"
      ]
     },
     "metadata": {},
     "output_type": "display_data"
    },
    {
     "data": {
      "application/vnd.jupyter.widget-view+json": {
       "model_id": "7c477b287b954a01a2fa1c4a98c7236f",
       "version_major": 2,
       "version_minor": 0
      },
      "text/plain": [
       "Validation: |          | 0/? [00:00<?, ?it/s]"
      ]
     },
     "metadata": {},
     "output_type": "display_data"
    },
    {
     "data": {
      "application/vnd.jupyter.widget-view+json": {
       "model_id": "b6a9086f13be4f5d8c0e361f37aa4b67",
       "version_major": 2,
       "version_minor": 0
      },
      "text/plain": [
       "Validation: |          | 0/? [00:00<?, ?it/s]"
      ]
     },
     "metadata": {},
     "output_type": "display_data"
    },
    {
     "data": {
      "application/vnd.jupyter.widget-view+json": {
       "model_id": "c97541ee0afe481b84a39b5244847af7",
       "version_major": 2,
       "version_minor": 0
      },
      "text/plain": [
       "Validation: |          | 0/? [00:00<?, ?it/s]"
      ]
     },
     "metadata": {},
     "output_type": "display_data"
    },
    {
     "data": {
      "application/vnd.jupyter.widget-view+json": {
       "model_id": "6ad5d0f081764821b499e90463aae0f0",
       "version_major": 2,
       "version_minor": 0
      },
      "text/plain": [
       "Validation: |          | 0/? [00:00<?, ?it/s]"
      ]
     },
     "metadata": {},
     "output_type": "display_data"
    },
    {
     "data": {
      "application/vnd.jupyter.widget-view+json": {
       "model_id": "80beb6cf3c2a4922b9b483ff29d967ab",
       "version_major": 2,
       "version_minor": 0
      },
      "text/plain": [
       "Validation: |          | 0/? [00:00<?, ?it/s]"
      ]
     },
     "metadata": {},
     "output_type": "display_data"
    },
    {
     "data": {
      "application/vnd.jupyter.widget-view+json": {
       "model_id": "f21cf765288b4b07b7de506493e24dd2",
       "version_major": 2,
       "version_minor": 0
      },
      "text/plain": [
       "Validation: |          | 0/? [00:00<?, ?it/s]"
      ]
     },
     "metadata": {},
     "output_type": "display_data"
    },
    {
     "name": "stderr",
     "output_type": "stream",
     "text": [
      "`Trainer.fit` stopped: `max_epochs=10` reached.\n"
     ]
    }
   ],
   "source": [
    "data = JSON(\n",
    "    json_path=Path(\"jsonfarmer/dataset.json\"),\n",
    "    mask_prompt=True,\n",
    "    prompt_style=\"alpaca\",\n",
    "    val_split_fraction=0.1,\n",
    ")\n",
    "data.prepare_data()\n",
    "data.setup()\n",
    "tokenizer = litgpt.Tokenizer(f\"checkpoints/{model_name}\")\n",
    "data.connect(tokenizer, batch_size=4, max_seq_length=512)\n",
    "\n",
    "trainer = Trainer(\n",
    "    devices=1,\n",
    "    max_epochs=10,\n",
    "    deterministic=True,\n",
    "    accumulate_grad_batches=3,\n",
    "    log_every_n_steps=1,\n",
    "    # fast_dev_run=True,\n",
    ")\n",
    "with trainer.init_module(empty_init=True):\n",
    "    model = Jsonfarmer(\n",
    "        model_name=model_name,\n",
    "        num_tokens=tokenizer.vocab_size,\n",
    "    )\n",
    "\n",
    "trainer.fit(model, data)\n",
    "# merge_lora_weights(model.model)\n",
    "trainer.save_checkpoint(\"checkpoints/jsonfarmer.ckpt\", weights_only=True)"
   ]
  },
  {
   "cell_type": "code",
   "execution_count": 6,
   "id": "a779c947",
   "metadata": {},
   "outputs": [
    {
     "data": {
      "text/plain": [
       "Reusing TensorBoard on port 6006 (pid 9794), started 0:01:13 ago. (Use '!kill 9794' to kill it.)"
      ]
     },
     "metadata": {},
     "output_type": "display_data"
    },
    {
     "data": {
      "text/html": [
       "\n",
       "      <iframe id=\"tensorboard-frame-bdd640fb06671ad1\" width=\"100%\" height=\"800\" frameborder=\"0\">\n",
       "      </iframe>\n",
       "      <script>\n",
       "        (function() {\n",
       "          const frame = document.getElementById(\"tensorboard-frame-bdd640fb06671ad1\");\n",
       "          const url = new URL(\"http://localhost\");\n",
       "          const port = 6006;\n",
       "          if (port) {\n",
       "            url.port = port;\n",
       "          }\n",
       "          frame.src = url;\n",
       "        })();\n",
       "      </script>\n",
       "    "
      ],
      "text/plain": [
       "<IPython.core.display.HTML object>"
      ]
     },
     "metadata": {},
     "output_type": "display_data"
    }
   ],
   "source": [
    "%reload_ext tensorboard\n",
    "%tensorboard --logdir=lightning_logs/"
   ]
  }
 ],
 "metadata": {
  "kernelspec": {
   "display_name": "jsonfarmer",
   "language": "python",
   "name": "python3"
  },
  "language_info": {
   "codemirror_mode": {
    "name": "ipython",
    "version": 3
   },
   "file_extension": ".py",
   "mimetype": "text/x-python",
   "name": "python",
   "nbconvert_exporter": "python",
   "pygments_lexer": "ipython3",
   "version": "3.13.2"
  }
 },
 "nbformat": 4,
 "nbformat_minor": 5
}
