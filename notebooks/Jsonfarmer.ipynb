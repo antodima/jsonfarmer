{
 "cells": [
  {
   "cell_type": "markdown",
   "id": "7eb12bba",
   "metadata": {},
   "source": [
    "# Jsonfarmer"
   ]
  },
  {
   "cell_type": "code",
   "execution_count": null,
   "id": "c727242e-c6d0-45cb-813a-f9aa0e6b365c",
   "metadata": {},
   "outputs": [],
   "source": [
    "%cd ..\n",
    "%load_ext dotenv\n",
    "%dotenv\n",
    "%env PYTORCH_MPS_HIGH_WATERMARK_RATIO=0.0\n",
    "%env HF_HUB_ENABLE_HF_TRANSFER=1\n",
    "%env PYDEVD_DISABLE_FILE_VALIDATION=1\n",
    "# !litgpt download meta-llama/Llama-3.2-1B\n",
    "!litgpt download Qwen/Qwen2.5-0.5B-Instruct"
   ]
  },
  {
   "cell_type": "code",
   "execution_count": null,
   "id": "2fef8282",
   "metadata": {},
   "outputs": [],
   "source": [
    "from pathlib import Path\n",
    "\n",
    "import torch\n",
    "\n",
    "import litgpt\n",
    "from litgpt.data import JSON\n",
    "from litgpt.lora import merge_lora_weights\n",
    "from lightning.pytorch import Trainer, seed_everything\n",
    "from jsonfarmer.model import Jsonfarmer\n",
    "\n",
    "seed_everything(42, workers=True)\n",
    "torch.set_float32_matmul_precision(\"high\")\n",
    "model_name = \"Qwen/Qwen2.5-0.5B-Instruct\""
   ]
  },
  {
   "cell_type": "code",
   "execution_count": null,
   "id": "bff06a00",
   "metadata": {},
   "outputs": [],
   "source": [
    "data = JSON(\n",
    "    json_path=Path(\"jsonfarmer/dataset.json\"),\n",
    "    mask_prompt=True,\n",
    "    prompt_style=\"alpaca\",\n",
    "    val_split_fraction=0.1,\n",
    ")\n",
    "data.prepare_data()\n",
    "data.setup()\n",
    "tokenizer = litgpt.Tokenizer(f\"checkpoints/{model_name}\")\n",
    "data.connect(tokenizer, batch_size=4, max_seq_length=512)\n",
    "\n",
    "trainer = Trainer(\n",
    "    devices=1,\n",
    "    max_epochs=10,\n",
    "    deterministic=True,\n",
    "    accumulate_grad_batches=3,\n",
    "    log_every_n_steps=1,\n",
    "    # fast_dev_run=True,\n",
    ")\n",
    "with trainer.init_module(empty_init=True):\n",
    "    model = Jsonfarmer(\n",
    "        model_name=model_name,\n",
    "        num_tokens=tokenizer.vocab_size,\n",
    "    )\n",
    "\n",
    "trainer.fit(model, data)\n",
    "# merge_lora_weights(model.model)\n",
    "trainer.save_checkpoint(\"checkpoints/jsonfarmer.ckpt\", weights_only=True)"
   ]
  }
 ],
 "metadata": {
  "kernelspec": {
   "display_name": "jsonfarmer",
   "language": "python",
   "name": "python3"
  },
  "language_info": {
   "codemirror_mode": {
    "name": "ipython",
    "version": 3
   },
   "file_extension": ".py",
   "mimetype": "text/x-python",
   "name": "python",
   "nbconvert_exporter": "python",
   "pygments_lexer": "ipython3",
   "version": "3.13.2"
  }
 },
 "nbformat": 4,
 "nbformat_minor": 5
}
